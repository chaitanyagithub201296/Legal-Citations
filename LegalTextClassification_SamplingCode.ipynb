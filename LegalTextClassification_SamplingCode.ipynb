{
  "cells": [
    {
      "cell_type": "code",
      "execution_count": null,
      "id": "97bbeb4e",
      "metadata": {
        "id": "97bbeb4e"
      },
      "outputs": [],
      "source": [
        "import numpy as np\n",
        "import pandas as pd\n",
        "import seaborn as sns"
      ]
    },
    {
      "cell_type": "code",
      "execution_count": null,
      "id": "09341dd5",
      "metadata": {
        "id": "09341dd5"
      },
      "outputs": [],
      "source": [
        "df = pd.read_csv('/content/legal_text_classification.csv')"
      ]
    },
    {
      "cell_type": "code",
      "execution_count": null,
      "id": "330982fe",
      "metadata": {
        "colab": {
          "base_uri": "https://localhost:8080/",
          "height": 206
        },
        "id": "330982fe",
        "outputId": "540376c9-cf4f-43a7-e191-76c9e501f8d5"
      },
      "outputs": [
        {
          "output_type": "execute_result",
          "data": {
            "text/plain": [
              "  case_id case_outcome                                         case_title  \\\n",
              "0   Case1        cited  Alpine Hardwood (Aust) Pty Ltd v Hardys Pty Lt...   \n",
              "1   Case2        cited  Black v Lipovac [1998] FCA 699 ; (1998) 217 AL...   \n",
              "2   Case3        cited  Colgate Palmolive Co v Cussons Pty Ltd (1993) ...   \n",
              "3   Case4        cited  Dais Studio Pty Ltd v Bullett Creative Pty Ltd...   \n",
              "4   Case5        cited  Dr Martens Australia Pty Ltd v Figgins Holding...   \n",
              "\n",
              "                                           case_text  \n",
              "0  Ordinarily that discretion will be exercised s...  \n",
              "1  The general principles governing the exercise ...  \n",
              "2  Ordinarily that discretion will be exercised s...  \n",
              "3  The general principles governing the exercise ...  \n",
              "4  The preceding general principles inform the ex...  "
            ],
            "text/html": [
              "\n",
              "  <div id=\"df-4c0a796c-1125-4027-a025-fe09fab0a01a\">\n",
              "    <div class=\"colab-df-container\">\n",
              "      <div>\n",
              "<style scoped>\n",
              "    .dataframe tbody tr th:only-of-type {\n",
              "        vertical-align: middle;\n",
              "    }\n",
              "\n",
              "    .dataframe tbody tr th {\n",
              "        vertical-align: top;\n",
              "    }\n",
              "\n",
              "    .dataframe thead th {\n",
              "        text-align: right;\n",
              "    }\n",
              "</style>\n",
              "<table border=\"1\" class=\"dataframe\">\n",
              "  <thead>\n",
              "    <tr style=\"text-align: right;\">\n",
              "      <th></th>\n",
              "      <th>case_id</th>\n",
              "      <th>case_outcome</th>\n",
              "      <th>case_title</th>\n",
              "      <th>case_text</th>\n",
              "    </tr>\n",
              "  </thead>\n",
              "  <tbody>\n",
              "    <tr>\n",
              "      <th>0</th>\n",
              "      <td>Case1</td>\n",
              "      <td>cited</td>\n",
              "      <td>Alpine Hardwood (Aust) Pty Ltd v Hardys Pty Lt...</td>\n",
              "      <td>Ordinarily that discretion will be exercised s...</td>\n",
              "    </tr>\n",
              "    <tr>\n",
              "      <th>1</th>\n",
              "      <td>Case2</td>\n",
              "      <td>cited</td>\n",
              "      <td>Black v Lipovac [1998] FCA 699 ; (1998) 217 AL...</td>\n",
              "      <td>The general principles governing the exercise ...</td>\n",
              "    </tr>\n",
              "    <tr>\n",
              "      <th>2</th>\n",
              "      <td>Case3</td>\n",
              "      <td>cited</td>\n",
              "      <td>Colgate Palmolive Co v Cussons Pty Ltd (1993) ...</td>\n",
              "      <td>Ordinarily that discretion will be exercised s...</td>\n",
              "    </tr>\n",
              "    <tr>\n",
              "      <th>3</th>\n",
              "      <td>Case4</td>\n",
              "      <td>cited</td>\n",
              "      <td>Dais Studio Pty Ltd v Bullett Creative Pty Ltd...</td>\n",
              "      <td>The general principles governing the exercise ...</td>\n",
              "    </tr>\n",
              "    <tr>\n",
              "      <th>4</th>\n",
              "      <td>Case5</td>\n",
              "      <td>cited</td>\n",
              "      <td>Dr Martens Australia Pty Ltd v Figgins Holding...</td>\n",
              "      <td>The preceding general principles inform the ex...</td>\n",
              "    </tr>\n",
              "  </tbody>\n",
              "</table>\n",
              "</div>\n",
              "      <button class=\"colab-df-convert\" onclick=\"convertToInteractive('df-4c0a796c-1125-4027-a025-fe09fab0a01a')\"\n",
              "              title=\"Convert this dataframe to an interactive table.\"\n",
              "              style=\"display:none;\">\n",
              "        \n",
              "  <svg xmlns=\"http://www.w3.org/2000/svg\" height=\"24px\"viewBox=\"0 0 24 24\"\n",
              "       width=\"24px\">\n",
              "    <path d=\"M0 0h24v24H0V0z\" fill=\"none\"/>\n",
              "    <path d=\"M18.56 5.44l.94 2.06.94-2.06 2.06-.94-2.06-.94-.94-2.06-.94 2.06-2.06.94zm-11 1L8.5 8.5l.94-2.06 2.06-.94-2.06-.94L8.5 2.5l-.94 2.06-2.06.94zm10 10l.94 2.06.94-2.06 2.06-.94-2.06-.94-.94-2.06-.94 2.06-2.06.94z\"/><path d=\"M17.41 7.96l-1.37-1.37c-.4-.4-.92-.59-1.43-.59-.52 0-1.04.2-1.43.59L10.3 9.45l-7.72 7.72c-.78.78-.78 2.05 0 2.83L4 21.41c.39.39.9.59 1.41.59.51 0 1.02-.2 1.41-.59l7.78-7.78 2.81-2.81c.8-.78.8-2.07 0-2.86zM5.41 20L4 18.59l7.72-7.72 1.47 1.35L5.41 20z\"/>\n",
              "  </svg>\n",
              "      </button>\n",
              "      \n",
              "  <style>\n",
              "    .colab-df-container {\n",
              "      display:flex;\n",
              "      flex-wrap:wrap;\n",
              "      gap: 12px;\n",
              "    }\n",
              "\n",
              "    .colab-df-convert {\n",
              "      background-color: #E8F0FE;\n",
              "      border: none;\n",
              "      border-radius: 50%;\n",
              "      cursor: pointer;\n",
              "      display: none;\n",
              "      fill: #1967D2;\n",
              "      height: 32px;\n",
              "      padding: 0 0 0 0;\n",
              "      width: 32px;\n",
              "    }\n",
              "\n",
              "    .colab-df-convert:hover {\n",
              "      background-color: #E2EBFA;\n",
              "      box-shadow: 0px 1px 2px rgba(60, 64, 67, 0.3), 0px 1px 3px 1px rgba(60, 64, 67, 0.15);\n",
              "      fill: #174EA6;\n",
              "    }\n",
              "\n",
              "    [theme=dark] .colab-df-convert {\n",
              "      background-color: #3B4455;\n",
              "      fill: #D2E3FC;\n",
              "    }\n",
              "\n",
              "    [theme=dark] .colab-df-convert:hover {\n",
              "      background-color: #434B5C;\n",
              "      box-shadow: 0px 1px 3px 1px rgba(0, 0, 0, 0.15);\n",
              "      filter: drop-shadow(0px 1px 2px rgba(0, 0, 0, 0.3));\n",
              "      fill: #FFFFFF;\n",
              "    }\n",
              "  </style>\n",
              "\n",
              "      <script>\n",
              "        const buttonEl =\n",
              "          document.querySelector('#df-4c0a796c-1125-4027-a025-fe09fab0a01a button.colab-df-convert');\n",
              "        buttonEl.style.display =\n",
              "          google.colab.kernel.accessAllowed ? 'block' : 'none';\n",
              "\n",
              "        async function convertToInteractive(key) {\n",
              "          const element = document.querySelector('#df-4c0a796c-1125-4027-a025-fe09fab0a01a');\n",
              "          const dataTable =\n",
              "            await google.colab.kernel.invokeFunction('convertToInteractive',\n",
              "                                                     [key], {});\n",
              "          if (!dataTable) return;\n",
              "\n",
              "          const docLinkHtml = 'Like what you see? Visit the ' +\n",
              "            '<a target=\"_blank\" href=https://colab.research.google.com/notebooks/data_table.ipynb>data table notebook</a>'\n",
              "            + ' to learn more about interactive tables.';\n",
              "          element.innerHTML = '';\n",
              "          dataTable['output_type'] = 'display_data';\n",
              "          await google.colab.output.renderOutput(dataTable, element);\n",
              "          const docLink = document.createElement('div');\n",
              "          docLink.innerHTML = docLinkHtml;\n",
              "          element.appendChild(docLink);\n",
              "        }\n",
              "      </script>\n",
              "    </div>\n",
              "  </div>\n",
              "  "
            ]
          },
          "metadata": {},
          "execution_count": 48
        }
      ],
      "source": [
        "df = df[['case_id','case_outcome','case_title','case_text']]\n",
        "df.head()"
      ]
    },
    {
      "cell_type": "code",
      "source": [
        "df['case_outcome'].value_counts()"
      ],
      "metadata": {
        "colab": {
          "base_uri": "https://localhost:8080/"
        },
        "id": "bCxW5vsoZ4JI",
        "outputId": "3f60e93b-0880-4548-f45b-51782c1acfd8"
      },
      "id": "bCxW5vsoZ4JI",
      "execution_count": null,
      "outputs": [
        {
          "output_type": "execute_result",
          "data": {
            "text/plain": [
              "cited            12219\n",
              "referred to       4384\n",
              "applied           2448\n",
              "followed          2256\n",
              "considered        1712\n",
              "discussed         1024\n",
              "distinguished      608\n",
              "related            113\n",
              "affirmed           113\n",
              "approved           108\n",
              "Name: case_outcome, dtype: int64"
            ]
          },
          "metadata": {},
          "execution_count": 49
        }
      ]
    },
    {
      "cell_type": "code",
      "execution_count": null,
      "id": "7189e829",
      "metadata": {
        "id": "7189e829"
      },
      "outputs": [],
      "source": [
        "def merge(x):\n",
        "    if x == 'approved':\n",
        "        return 'affirmed'\n",
        "    elif x == 'considered':\n",
        "        return 'discussed'\n",
        "    elif x == 'related':\n",
        "        return 'remove'\n",
        "    elif (x == 'followed'):\n",
        "        return 'referred to'\n",
        "    else:\n",
        "        return x"
      ]
    },
    {
      "cell_type": "code",
      "execution_count": null,
      "id": "42dc6474",
      "metadata": {
        "id": "42dc6474"
      },
      "outputs": [],
      "source": [
        "df['case_outcome_merged'] = df['case_outcome'].apply(lambda x: merge(x))"
      ]
    },
    {
      "cell_type": "code",
      "execution_count": null,
      "id": "de4f2580",
      "metadata": {
        "id": "de4f2580"
      },
      "outputs": [],
      "source": [
        "df = df[df['case_outcome_merged'] != 'remove']"
      ]
    },
    {
      "cell_type": "code",
      "execution_count": null,
      "id": "5499af47",
      "metadata": {
        "colab": {
          "base_uri": "https://localhost:8080/"
        },
        "id": "5499af47",
        "outputId": "bc62c9e1-3793-4da1-b1d0-29883b883939"
      },
      "outputs": [
        {
          "output_type": "execute_result",
          "data": {
            "text/plain": [
              "cited            12219\n",
              "referred to       6640\n",
              "discussed         2736\n",
              "applied           2448\n",
              "distinguished      608\n",
              "affirmed           221\n",
              "Name: case_outcome_merged, dtype: int64"
            ]
          },
          "metadata": {},
          "execution_count": 53
        }
      ],
      "source": [
        "df['case_outcome_merged'].value_counts()"
      ]
    },
    {
      "cell_type": "code",
      "execution_count": null,
      "id": "73d9ec65",
      "metadata": {
        "colab": {
          "base_uri": "https://localhost:8080/",
          "height": 343
        },
        "id": "73d9ec65",
        "outputId": "0a51e246-a2b5-422d-8d05-20d1a59cfb88"
      },
      "outputs": [
        {
          "output_type": "execute_result",
          "data": {
            "text/plain": [
              "([0, 1, 2, 3, 4, 5], <a list of 6 Text major ticklabel objects>)"
            ]
          },
          "metadata": {},
          "execution_count": 54
        },
        {
          "output_type": "display_data",
          "data": {
            "text/plain": [
              "<Figure size 432x288 with 1 Axes>"
            ],
            "image/png": "[encoded data removed]"
          },
          "metadata": {
            "needs_background": "light"
          }
        }
      ],
      "source": [
        "#plt.figure(figsize = (15,6))\n",
        "sns.histplot(data = df, x = 'case_outcome_merged')\n",
        "import matplotlib.pyplot as plt\n",
        "plt.xticks(rotation = 45)"
      ]
    },
    {
      "cell_type": "code",
      "execution_count": null,
      "id": "bb459ac1",
      "metadata": {
        "id": "bb459ac1"
      },
      "outputs": [],
      "source": [
        "df_cited = df[df['case_outcome_merged'] == 'cited']\n",
        "df_cited.reset_index(drop = True, inplace = True)\n",
        "\n",
        "df_referred = df[df['case_outcome_merged'] == 'referred to']\n",
        "df_referred.reset_index(drop = True, inplace = True)"
      ]
    },
    {
      "cell_type": "code",
      "execution_count": null,
      "id": "eda3c631",
      "metadata": {
        "id": "eda3c631"
      },
      "outputs": [],
      "source": [
        "import random\n",
        "df_cited_sample = df_cited.iloc[random.sample(range(0, 12219), 3000),:] \n",
        "df_referred_sample = df_referred.iloc[random.sample(range(0, 6640), 3000),:] "
      ]
    },
    {
      "cell_type": "code",
      "execution_count": null,
      "id": "2aafce43",
      "metadata": {
        "id": "2aafce43"
      },
      "outputs": [],
      "source": [
        "df_discussed = df[df['case_outcome_merged'] == 'discussed']\n",
        "df_discussed.reset_index(drop = True, inplace = True)\n",
        "df_applied = df[df['case_outcome_merged'] == 'applied']\n",
        "df_applied.reset_index(drop = True, inplace = True)\n",
        "df_distinguished = df[df['case_outcome_merged'] == 'distinguished']\n",
        "df_distinguished.reset_index(drop = True, inplace = True)\n",
        "df_affirmed = df[df['case_outcome_merged'] == 'affirmed']\n",
        "df_affirmed.reset_index(drop = True, inplace = True)"
      ]
    },
    {
      "cell_type": "code",
      "execution_count": null,
      "id": "5fa7b01d",
      "metadata": {
        "id": "5fa7b01d"
      },
      "outputs": [],
      "source": [
        "df_sample = pd.concat([df_cited_sample, df_referred_sample,df_discussed,df_applied,df_distinguished,df_affirmed], axis = 0)\n",
        "df_sample.reset_index(drop = True, inplace = True)"
      ]
    },
    {
      "cell_type": "code",
      "execution_count": null,
      "id": "c7e9d2b7",
      "metadata": {
        "colab": {
          "base_uri": "https://localhost:8080/",
          "height": 423
        },
        "id": "c7e9d2b7",
        "outputId": "13465533-8dd8-45d3-c9db-9c0d51b97d47"
      },
      "outputs": [
        {
          "output_type": "execute_result",
          "data": {
            "text/plain": [
              "         case_id case_outcome  \\\n",
              "0       Case2828        cited   \n",
              "1       Case5298        cited   \n",
              "2       Case7873        cited   \n",
              "3      Case21181        cited   \n",
              "4      Case23346        cited   \n",
              "...          ...          ...   \n",
              "12008  Case24069     affirmed   \n",
              "12009  Case24507     affirmed   \n",
              "12010  Case24996     approved   \n",
              "12011  Case25002     approved   \n",
              "12012  Case25006     approved   \n",
              "\n",
              "                                              case_title  \\\n",
              "0      Australian Broadcasting Corporation v Lenah Ga...   \n",
              "1      Morales v Minister for Immigration and Multicu...   \n",
              "2      Federal Commissioner of Taxation v Myer Empori...   \n",
              "3                           The 'Zeus' (1888) 13 PD 188    \n",
              "4      R v Industrial Court (S.A.); ex parte Mount Gu...   \n",
              "...                                                  ...   \n",
              "12008  YBCF v Minister for Immigration and Citizenshi...   \n",
              "12009  MZYBX v Minister for Immigration &amp; Citizen...   \n",
              "12010  Borrett v Repatriation Commission [2000] FCA 1829   \n",
              "12011  Dixon v Repatriation Commission [1999] FCA 582...   \n",
              "12012     Hall v Repatriation Commission [2007] FCA 2021   \n",
              "\n",
              "                                               case_text case_outcome_merged  \n",
              "0      FKP submitted that the creation of intellectua...               cited  \n",
              "1      this principle applies in relation to decision...               cited  \n",
              "2      Zealand, by its counsel, has confirmed that, i...               cited  \n",
              "3      It is also be noted that in The 'Antonis P Lem...               cited  \n",
              "4      R v Industrial Court (S.A.); ex parte Mount Gu...               cited  \n",
              "...                                                  ...                 ...  \n",
              "12008  This is an application brought under s 44(1) o...            affirmed  \n",
              "12009  appeal is from a judgment of the Federal Magis...            affirmed  \n",
              "12010  This passage from Dixon [1999] FCA 582 ; 29 AA...            affirmed  \n",
              "12011  Nevertheless, it is important not only to draw...            affirmed  \n",
              "12012  In Hall v Repatriation Commission [2007] FCA 2...            affirmed  \n",
              "\n",
              "[12013 rows x 5 columns]"
            ],
            "text/html": [
              "\n",
              "  <div id=\"df-73632712-ed4b-4188-830b-f1368b876b6f\">\n",
              "    <div class=\"colab-df-container\">\n",
              "      <div>\n",
              "<style scoped>\n",
              "    .dataframe tbody tr th:only-of-type {\n",
              "        vertical-align: middle;\n",
              "    }\n",
              "\n",
              "    .dataframe tbody tr th {\n",
              "        vertical-align: top;\n",
              "    }\n",
              "\n",
              "    .dataframe thead th {\n",
              "        text-align: right;\n",
              "    }\n",
              "</style>\n",
              "<table border=\"1\" class=\"dataframe\">\n",
              "  <thead>\n",
              "    <tr style=\"text-align: right;\">\n",
              "      <th></th>\n",
              "      <th>case_id</th>\n",
              "      <th>case_outcome</th>\n",
              "      <th>case_title</th>\n",
              "      <th>case_text</th>\n",
              "      <th>case_outcome_merged</th>\n",
              "    </tr>\n",
              "  </thead>\n",
              "  <tbody>\n",
              "    <tr>\n",
              "      <th>0</th>\n",
              "      <td>Case2828</td>\n",
              "      <td>cited</td>\n",
              "      <td>Australian Broadcasting Corporation v Lenah Ga...</td>\n",
              "      <td>FKP submitted that the creation of intellectua...</td>\n",
              "      <td>cited</td>\n",
              "    </tr>\n",
              "    <tr>\n",
              "      <th>1</th>\n",
              "      <td>Case5298</td>\n",
              "      <td>cited</td>\n",
              "      <td>Morales v Minister for Immigration and Multicu...</td>\n",
              "      <td>this principle applies in relation to decision...</td>\n",
              "      <td>cited</td>\n",
              "    </tr>\n",
              "    <tr>\n",
              "      <th>2</th>\n",
              "      <td>Case7873</td>\n",
              "      <td>cited</td>\n",
              "      <td>Federal Commissioner of Taxation v Myer Empori...</td>\n",
              "      <td>Zealand, by its counsel, has confirmed that, i...</td>\n",
              "      <td>cited</td>\n",
              "    </tr>\n",
              "    <tr>\n",
              "      <th>3</th>\n",
              "      <td>Case21181</td>\n",
              "      <td>cited</td>\n",
              "      <td>The 'Zeus' (1888) 13 PD 188</td>\n",
              "      <td>It is also be noted that in The 'Antonis P Lem...</td>\n",
              "      <td>cited</td>\n",
              "    </tr>\n",
              "    <tr>\n",
              "      <th>4</th>\n",
              "      <td>Case23346</td>\n",
              "      <td>cited</td>\n",
              "      <td>R v Industrial Court (S.A.); ex parte Mount Gu...</td>\n",
              "      <td>R v Industrial Court (S.A.); ex parte Mount Gu...</td>\n",
              "      <td>cited</td>\n",
              "    </tr>\n",
              "    <tr>\n",
              "      <th>...</th>\n",
              "      <td>...</td>\n",
              "      <td>...</td>\n",
              "      <td>...</td>\n",
              "      <td>...</td>\n",
              "      <td>...</td>\n",
              "    </tr>\n",
              "    <tr>\n",
              "      <th>12008</th>\n",
              "      <td>Case24069</td>\n",
              "      <td>affirmed</td>\n",
              "      <td>YBCF v Minister for Immigration and Citizenshi...</td>\n",
              "      <td>This is an application brought under s 44(1) o...</td>\n",
              "      <td>affirmed</td>\n",
              "    </tr>\n",
              "    <tr>\n",
              "      <th>12009</th>\n",
              "      <td>Case24507</td>\n",
              "      <td>affirmed</td>\n",
              "      <td>MZYBX v Minister for Immigration &amp;amp; Citizen...</td>\n",
              "      <td>appeal is from a judgment of the Federal Magis...</td>\n",
              "      <td>affirmed</td>\n",
              "    </tr>\n",
              "    <tr>\n",
              "      <th>12010</th>\n",
              "      <td>Case24996</td>\n",
              "      <td>approved</td>\n",
              "      <td>Borrett v Repatriation Commission [2000] FCA 1829</td>\n",
              "      <td>This passage from Dixon [1999] FCA 582 ; 29 AA...</td>\n",
              "      <td>affirmed</td>\n",
              "    </tr>\n",
              "    <tr>\n",
              "      <th>12011</th>\n",
              "      <td>Case25002</td>\n",
              "      <td>approved</td>\n",
              "      <td>Dixon v Repatriation Commission [1999] FCA 582...</td>\n",
              "      <td>Nevertheless, it is important not only to draw...</td>\n",
              "      <td>affirmed</td>\n",
              "    </tr>\n",
              "    <tr>\n",
              "      <th>12012</th>\n",
              "      <td>Case25006</td>\n",
              "      <td>approved</td>\n",
              "      <td>Hall v Repatriation Commission [2007] FCA 2021</td>\n",
              "      <td>In Hall v Repatriation Commission [2007] FCA 2...</td>\n",
              "      <td>affirmed</td>\n",
              "    </tr>\n",
              "  </tbody>\n",
              "</table>\n",
              "<p>12013 rows × 5 columns</p>\n",
              "</div>\n",
              "      <button class=\"colab-df-convert\" onclick=\"convertToInteractive('df-73632712-ed4b-4188-830b-f1368b876b6f')\"\n",
              "              title=\"Convert this dataframe to an interactive table.\"\n",
              "              style=\"display:none;\">\n",
              "        \n",
              "  <svg xmlns=\"http://www.w3.org/2000/svg\" height=\"24px\"viewBox=\"0 0 24 24\"\n",
              "       width=\"24px\">\n",
              "    <path d=\"M0 0h24v24H0V0z\" fill=\"none\"/>\n",
              "    <path d=\"M18.56 5.44l.94 2.06.94-2.06 2.06-.94-2.06-.94-.94-2.06-.94 2.06-2.06.94zm-11 1L8.5 8.5l.94-2.06 2.06-.94-2.06-.94L8.5 2.5l-.94 2.06-2.06.94zm10 10l.94 2.06.94-2.06 2.06-.94-2.06-.94-.94-2.06-.94 2.06-2.06.94z\"/><path d=\"M17.41 7.96l-1.37-1.37c-.4-.4-.92-.59-1.43-.59-.52 0-1.04.2-1.43.59L10.3 9.45l-7.72 7.72c-.78.78-.78 2.05 0 2.83L4 21.41c.39.39.9.59 1.41.59.51 0 1.02-.2 1.41-.59l7.78-7.78 2.81-2.81c.8-.78.8-2.07 0-2.86zM5.41 20L4 18.59l7.72-7.72 1.47 1.35L5.41 20z\"/>\n",
              "  </svg>\n",
              "      </button>\n",
              "      \n",
              "  <style>\n",
              "    .colab-df-container {\n",
              "      display:flex;\n",
              "      flex-wrap:wrap;\n",
              "      gap: 12px;\n",
              "    }\n",
              "\n",
              "    .colab-df-convert {\n",
              "      background-color: #E8F0FE;\n",
              "      border: none;\n",
              "      border-radius: 50%;\n",
              "      cursor: pointer;\n",
              "      display: none;\n",
              "      fill: #1967D2;\n",
              "      height: 32px;\n",
              "      padding: 0 0 0 0;\n",
              "      width: 32px;\n",
              "    }\n",
              "\n",
              "    .colab-df-convert:hover {\n",
              "      background-color: #E2EBFA;\n",
              "      box-shadow: 0px 1px 2px rgba(60, 64, 67, 0.3), 0px 1px 3px 1px rgba(60, 64, 67, 0.15);\n",
              "      fill: #174EA6;\n",
              "    }\n",
              "\n",
              "    [theme=dark] .colab-df-convert {\n",
              "      background-color: #3B4455;\n",
              "      fill: #D2E3FC;\n",
              "    }\n",
              "\n",
              "    [theme=dark] .colab-df-convert:hover {\n",
              "      background-color: #434B5C;\n",
              "      box-shadow: 0px 1px 3px 1px rgba(0, 0, 0, 0.15);\n",
              "      filter: drop-shadow(0px 1px 2px rgba(0, 0, 0, 0.3));\n",
              "      fill: #FFFFFF;\n",
              "    }\n",
              "  </style>\n",
              "\n",
              "      <script>\n",
              "        const buttonEl =\n",
              "          document.querySelector('#df-73632712-ed4b-4188-830b-f1368b876b6f button.colab-df-convert');\n",
              "        buttonEl.style.display =\n",
              "          google.colab.kernel.accessAllowed ? 'block' : 'none';\n",
              "\n",
              "        async function convertToInteractive(key) {\n",
              "          const element = document.querySelector('#df-73632712-ed4b-4188-830b-f1368b876b6f');\n",
              "          const dataTable =\n",
              "            await google.colab.kernel.invokeFunction('convertToInteractive',\n",
              "                                                     [key], {});\n",
              "          if (!dataTable) return;\n",
              "\n",
              "          const docLinkHtml = 'Like what you see? Visit the ' +\n",
              "            '<a target=\"_blank\" href=https://colab.research.google.com/notebooks/data_table.ipynb>data table notebook</a>'\n",
              "            + ' to learn more about interactive tables.';\n",
              "          element.innerHTML = '';\n",
              "          dataTable['output_type'] = 'display_data';\n",
              "          await google.colab.output.renderOutput(dataTable, element);\n",
              "          const docLink = document.createElement('div');\n",
              "          docLink.innerHTML = docLinkHtml;\n",
              "          element.appendChild(docLink);\n",
              "        }\n",
              "      </script>\n",
              "    </div>\n",
              "  </div>\n",
              "  "
            ]
          },
          "metadata": {},
          "execution_count": 59
        }
      ],
      "source": [
        "df_sample"
      ]
    },
    {
      "cell_type": "code",
      "source": [
        "sns.histplot(data = df_sample, x = 'case_outcome_merged')\n",
        "plt.xticks(rotation = 45)"
      ],
      "metadata": {
        "colab": {
          "base_uri": "https://localhost:8080/",
          "height": 343
        },
        "id": "iNxxUH0PQ2Hn",
        "outputId": "237eaddc-d56d-49dd-94dd-780a8d58c2eb"
      },
      "id": "iNxxUH0PQ2Hn",
      "execution_count": null,
      "outputs": [
        {
          "output_type": "execute_result",
          "data": {
            "text/plain": [
              "([0, 1, 2, 3, 4, 5], <a list of 6 Text major ticklabel objects>)"
            ]
          },
          "metadata": {},
          "execution_count": 60
        },
        {
          "output_type": "display_data",
          "data": {
            "text/plain": [
              "<Figure size 432x288 with 1 Axes>"
            ],
            "image/png": "[encoded data removed]"
          },
          "metadata": {
            "needs_background": "light"
          }
        }
      ]
    },
    {
      "cell_type": "code",
      "source": [
        "df_sample['case_outcome_merged'].value_counts()"
      ],
      "metadata": {
        "colab": {
          "base_uri": "https://localhost:8080/"
        },
        "id": "f0y0TdUcRAPR",
        "outputId": "97f03600-8369-4b04-8042-f2a8c3894a72"
      },
      "id": "f0y0TdUcRAPR",
      "execution_count": null,
      "outputs": [
        {
          "output_type": "execute_result",
          "data": {
            "text/plain": [
              "cited            3000\n",
              "referred to      3000\n",
              "discussed        2736\n",
              "applied          2448\n",
              "distinguished     608\n",
              "affirmed          221\n",
              "Name: case_outcome_merged, dtype: int64"
            ]
          },
          "metadata": {},
          "execution_count": 61
        }
      ]
    },
    {
      "cell_type": "code",
      "source": [
        "from sklearn.model_selection import train_test_split\n",
        "import pandas as pd\n",
        "# from nltk.stem.snowball import SnowballStemmer\n",
        "\n",
        "# Use English stemmer.\n",
        "stemmer = SnowballStemmer(\"english\")\n",
        "df_sample=df_sample.dropna()\n",
        "import re\n",
        "df_sample['cleaned'] = df_sample['case_text'].str.replace('[^\\w\\s]','')\n",
        "df_sample['cleaned'] = df_sample['cleaned'].str.replace('\\d+','')\n",
        "df_sample['cleaned'] = df_sample['cleaned'].str.findall('\\w{4,}').str.join(' ')\n",
        "#df['cleaned2'] = df['cleaned'].apply(lambda x: [stemmer.stem(y) for y in x])\n",
        "X=df_sample['cleaned'] # Features\n",
        "y=df_sample['case_outcome_merged']  # Labels\n",
        "\n",
        "# Split dataset into training set and test set\n",
        "X_train, X_test, y_train, y_test = train_test_split(X, y, test_size=0.3) "
      ],
      "metadata": {
        "colab": {
          "base_uri": "https://localhost:8080/"
        },
        "id": "4ygcs_qeR-Nl",
        "outputId": "c5ebd3e8-d706-4edb-ea16-d036c68514c4"
      },
      "id": "4ygcs_qeR-Nl",
      "execution_count": null,
      "outputs": [
        {
          "output_type": "stream",
          "name": "stderr",
          "text": [
            "<ipython-input-62-8225ab11e4a3>:9: FutureWarning: The default value of regex will change from True to False in a future version.\n",
            "  df_sample['cleaned'] = df_sample['case_text'].str.replace('[^\\w\\s]','')\n",
            "<ipython-input-62-8225ab11e4a3>:9: SettingWithCopyWarning: \n",
            "A value is trying to be set on a copy of a slice from a DataFrame.\n",
            "Try using .loc[row_indexer,col_indexer] = value instead\n",
            "\n",
            "See the caveats in the documentation: https://pandas.pydata.org/pandas-docs/stable/user_guide/indexing.html#returning-a-view-versus-a-copy\n",
            "  df_sample['cleaned'] = df_sample['case_text'].str.replace('[^\\w\\s]','')\n",
            "<ipython-input-62-8225ab11e4a3>:10: FutureWarning: The default value of regex will change from True to False in a future version.\n",
            "  df_sample['cleaned'] = df_sample['cleaned'].str.replace('\\d+','')\n",
            "<ipython-input-62-8225ab11e4a3>:10: SettingWithCopyWarning: \n",
            "A value is trying to be set on a copy of a slice from a DataFrame.\n",
            "Try using .loc[row_indexer,col_indexer] = value instead\n",
            "\n",
            "See the caveats in the documentation: https://pandas.pydata.org/pandas-docs/stable/user_guide/indexing.html#returning-a-view-versus-a-copy\n",
            "  df_sample['cleaned'] = df_sample['cleaned'].str.replace('\\d+','')\n",
            "<ipython-input-62-8225ab11e4a3>:11: SettingWithCopyWarning: \n",
            "A value is trying to be set on a copy of a slice from a DataFrame.\n",
            "Try using .loc[row_indexer,col_indexer] = value instead\n",
            "\n",
            "See the caveats in the documentation: https://pandas.pydata.org/pandas-docs/stable/user_guide/indexing.html#returning-a-view-versus-a-copy\n",
            "  df_sample['cleaned'] = df_sample['cleaned'].str.findall('\\w{4,}').str.join(' ')\n"
          ]
        }
      ]
    },
    {
      "cell_type": "code",
      "source": [
        "df_sample['cleaned']"
      ],
      "metadata": {
        "colab": {
          "base_uri": "https://localhost:8080/"
        },
        "id": "3CxvGQFmRaEh",
        "outputId": "565d3eb5-bcba-49cf-80c1-1aa42216bee7"
      },
      "id": "3CxvGQFmRaEh",
      "execution_count": null,
      "outputs": [
        {
          "output_type": "execute_result",
          "data": {
            "text/plain": [
              "0        submitted that creation intellectual property ...\n",
              "1        this principle applies relation decisions Trib...\n",
              "2        Zealand counsel confirmed that accordance with...\n",
              "3        also noted that Antonis Lemos Lord Brandon exp...\n",
              "4        Industrial Court parte Mount Gunson Mines afte...\n",
              "                               ...                        \n",
              "12008    This application brought under Administrative ...\n",
              "12009    appeal from judgment Federal Magistrates Court...\n",
              "12010    This passage from Dixon cited with approval Ta...\n",
              "12011    Nevertheless important only draw line ensure t...\n",
              "12012    Hall Repatriation Commission Gyles said that m...\n",
              "Name: cleaned, Length: 11936, dtype: object"
            ]
          },
          "metadata": {},
          "execution_count": 63
        }
      ]
    },
    {
      "cell_type": "code",
      "source": [
        "from sklearn.feature_extraction.text import TfidfVectorizer,CountVectorizer\n",
        "#Create a Gaussian Classifier\n",
        "tfidf_vect = TfidfVectorizer(encoding='latin-1', use_idf=True, min_df=5, stop_words='english')\n",
        "X_train_tfidf = tfidf_vect.fit_transform(X_train)\n",
        "feature_names = np.array(tfidf_vect.get_feature_names())\n",
        "X_test_tfidf = tfidf_vect.transform(X_test)"
      ],
      "metadata": {
        "colab": {
          "base_uri": "https://localhost:8080/"
        },
        "id": "ejqFM8CqRyTv",
        "outputId": "31163c0b-4ae1-48d0-9150-46f93bfa6e05"
      },
      "id": "ejqFM8CqRyTv",
      "execution_count": null,
      "outputs": [
        {
          "output_type": "stream",
          "name": "stderr",
          "text": [
            "/usr/local/lib/python3.8/dist-packages/sklearn/utils/deprecation.py:87: FutureWarning: Function get_feature_names is deprecated; get_feature_names is deprecated in 1.0 and will be removed in 1.2. Please use get_feature_names_out instead.\n",
            "  warnings.warn(msg, category=FutureWarning)\n"
          ]
        }
      ]
    },
    {
      "cell_type": "code",
      "source": [
        "# from sklearn.feature_extraction.text import TfidfVectorizer,CountVectorizer\n",
        "# model = CountVectorizer(ngram_range = (1, 3), stop_words='english')\n",
        "# X_trainCV = model.fit_transform(X_train)\n",
        "# X_testCV = model.transform(X_test)\n",
        "# feature_namesCV = np.array(model.get_feature_names())\n",
        "# max_scores = model.toarray().max(0).argsort()\n",
        "# np.array(feature_namesCV)[max_scores[-20:]]\n",
        "\n",
        "# sum_words = X_testCV.sum(axis=0) \n",
        "# words_freq = [(word, sum_words[0, idx]) for word, idx in model.vocabulary_.items()]\n",
        "# words_freq =sorted(words_freq, key = lambda x: x[1], reverse=True)\n",
        "# df = pd.DataFrame(words_freq, columns=['Word', 'Frequency'])\n",
        "# df_sub = df.head(10)\n",
        "# df_sub"
      ],
      "metadata": {
        "id": "Ic_66YhIsKF5"
      },
      "id": "Ic_66YhIsKF5",
      "execution_count": null,
      "outputs": []
    },
    {
      "cell_type": "code",
      "source": [
        "import nltk\n",
        "nltk.download('wordnet')\n",
        "nltk.download('omw-1.4')\n",
        "lemmatizer = nltk.stem.WordNetLemmatizer()\n",
        "def lemmatize_text(text):\n",
        "    return [\"\".join([lemmatizer.lemmatize(w)]) for w in text]\n",
        "  \n",
        "df_sample['text_lemmatized'] = df_sample.cleaned.apply(lemmatize_text)"
      ],
      "metadata": {
        "colab": {
          "base_uri": "https://localhost:8080/"
        },
        "id": "u7U3htShX8MM",
        "outputId": "df642849-cd51-46da-de16-329b17a8ab67"
      },
      "id": "u7U3htShX8MM",
      "execution_count": null,
      "outputs": [
        {
          "output_type": "stream",
          "name": "stderr",
          "text": [
            "[nltk_data] Downloading package wordnet to /root/nltk_data...\n",
            "[nltk_data]   Package wordnet is already up-to-date!\n",
            "[nltk_data] Downloading package omw-1.4 to /root/nltk_data...\n",
            "[nltk_data]   Package omw-1.4 is already up-to-date!\n"
          ]
        }
      ]
    },
    {
      "cell_type": "code",
      "source": [
        "# indices = np.argsort(tfidf_vect.idf_)[::-1]\n",
        "# features = tfidf_vect.get_feature_names()\n",
        "# top_n = 10\n",
        "# top_features = [features[i] for i in indices[:top_n]]\n",
        "# print(top_features)\n",
        "\n",
        "# sum_words = X_testCV.sum(axis=0) \n",
        "# words_freq = [(word, sum_words[0, idx]) for word, idx in model.vocabulary_.items()]\n",
        "# words_freq =sorted(words_freq, key = lambda x: x[1], reverse=True)\n",
        "# df = pd.DataFrame(words_freq, columns=['Word', 'Frequency'])\n",
        "# df_sub = df.head(10)\n",
        "# df_sub"
      ],
      "metadata": {
        "colab": {
          "base_uri": "https://localhost:8080/",
          "height": 438
        },
        "id": "W7nWmQIXNXkt",
        "outputId": "373909e0-243a-49c1-d2f8-95e71ee00719"
      },
      "id": "W7nWmQIXNXkt",
      "execution_count": null,
      "outputs": [
        {
          "output_type": "stream",
          "name": "stderr",
          "text": [
            "/usr/local/lib/python3.8/dist-packages/sklearn/utils/deprecation.py:87: FutureWarning: Function get_feature_names is deprecated; get_feature_names is deprecated in 1.0 and will be removed in 1.2. Please use get_feature_names_out instead.\n",
            "  warnings.warn(msg, category=FutureWarning)\n"
          ]
        },
        {
          "output_type": "stream",
          "name": "stdout",
          "text": [
            "['hopper', 'twentysix', 'hamdan', 'halse', 'persistently', 'hale', 'halcyon', 'hair', 'hahnheuser', 'petranker']\n"
          ]
        },
        {
          "output_type": "execute_result",
          "data": {
            "text/plain": [
              "        Word  Frequency\n",
              "0      court       9137\n",
              "1       case       5072\n",
              "2   evidence       4307\n",
              "3      legal       3898\n",
              "4   decision       3823\n",
              "5   tribunal       3763\n",
              "6  applicant       3403\n",
              "7       said       3349\n",
              "8  privilege       3278\n",
              "9  documents       2982"
            ],
            "text/html": [
              "\n",
              "  <div id=\"df-2b8fdd77-6285-4489-940b-a41a18fe10a1\">\n",
              "    <div class=\"colab-df-container\">\n",
              "      <div>\n",
              "<style scoped>\n",
              "    .dataframe tbody tr th:only-of-type {\n",
              "        vertical-align: middle;\n",
              "    }\n",
              "\n",
              "    .dataframe tbody tr th {\n",
              "        vertical-align: top;\n",
              "    }\n",
              "\n",
              "    .dataframe thead th {\n",
              "        text-align: right;\n",
              "    }\n",
              "</style>\n",
              "<table border=\"1\" class=\"dataframe\">\n",
              "  <thead>\n",
              "    <tr style=\"text-align: right;\">\n",
              "      <th></th>\n",
              "      <th>Word</th>\n",
              "      <th>Frequency</th>\n",
              "    </tr>\n",
              "  </thead>\n",
              "  <tbody>\n",
              "    <tr>\n",
              "      <th>0</th>\n",
              "      <td>court</td>\n",
              "      <td>9137</td>\n",
              "    </tr>\n",
              "    <tr>\n",
              "      <th>1</th>\n",
              "      <td>case</td>\n",
              "      <td>5072</td>\n",
              "    </tr>\n",
              "    <tr>\n",
              "      <th>2</th>\n",
              "      <td>evidence</td>\n",
              "      <td>4307</td>\n",
              "    </tr>\n",
              "    <tr>\n",
              "      <th>3</th>\n",
              "      <td>legal</td>\n",
              "      <td>3898</td>\n",
              "    </tr>\n",
              "    <tr>\n",
              "      <th>4</th>\n",
              "      <td>decision</td>\n",
              "      <td>3823</td>\n",
              "    </tr>\n",
              "    <tr>\n",
              "      <th>5</th>\n",
              "      <td>tribunal</td>\n",
              "      <td>3763</td>\n",
              "    </tr>\n",
              "    <tr>\n",
              "      <th>6</th>\n",
              "      <td>applicant</td>\n",
              "      <td>3403</td>\n",
              "    </tr>\n",
              "    <tr>\n",
              "      <th>7</th>\n",
              "      <td>said</td>\n",
              "      <td>3349</td>\n",
              "    </tr>\n",
              "    <tr>\n",
              "      <th>8</th>\n",
              "      <td>privilege</td>\n",
              "      <td>3278</td>\n",
              "    </tr>\n",
              "    <tr>\n",
              "      <th>9</th>\n",
              "      <td>documents</td>\n",
              "      <td>2982</td>\n",
              "    </tr>\n",
              "  </tbody>\n",
              "</table>\n",
              "</div>\n",
              "      <button class=\"colab-df-convert\" onclick=\"convertToInteractive('df-2b8fdd77-6285-4489-940b-a41a18fe10a1')\"\n",
              "              title=\"Convert this dataframe to an interactive table.\"\n",
              "              style=\"display:none;\">\n",
              "        \n",
              "  <svg xmlns=\"http://www.w3.org/2000/svg\" height=\"24px\"viewBox=\"0 0 24 24\"\n",
              "       width=\"24px\">\n",
              "    <path d=\"M0 0h24v24H0V0z\" fill=\"none\"/>\n",
              "    <path d=\"M18.56 5.44l.94 2.06.94-2.06 2.06-.94-2.06-.94-.94-2.06-.94 2.06-2.06.94zm-11 1L8.5 8.5l.94-2.06 2.06-.94-2.06-.94L8.5 2.5l-.94 2.06-2.06.94zm10 10l.94 2.06.94-2.06 2.06-.94-2.06-.94-.94-2.06-.94 2.06-2.06.94z\"/><path d=\"M17.41 7.96l-1.37-1.37c-.4-.4-.92-.59-1.43-.59-.52 0-1.04.2-1.43.59L10.3 9.45l-7.72 7.72c-.78.78-.78 2.05 0 2.83L4 21.41c.39.39.9.59 1.41.59.51 0 1.02-.2 1.41-.59l7.78-7.78 2.81-2.81c.8-.78.8-2.07 0-2.86zM5.41 20L4 18.59l7.72-7.72 1.47 1.35L5.41 20z\"/>\n",
              "  </svg>\n",
              "      </button>\n",
              "      \n",
              "  <style>\n",
              "    .colab-df-container {\n",
              "      display:flex;\n",
              "      flex-wrap:wrap;\n",
              "      gap: 12px;\n",
              "    }\n",
              "\n",
              "    .colab-df-convert {\n",
              "      background-color: #E8F0FE;\n",
              "      border: none;\n",
              "      border-radius: 50%;\n",
              "      cursor: pointer;\n",
              "      display: none;\n",
              "      fill: #1967D2;\n",
              "      height: 32px;\n",
              "      padding: 0 0 0 0;\n",
              "      width: 32px;\n",
              "    }\n",
              "\n",
              "    .colab-df-convert:hover {\n",
              "      background-color: #E2EBFA;\n",
              "      box-shadow: 0px 1px 2px rgba(60, 64, 67, 0.3), 0px 1px 3px 1px rgba(60, 64, 67, 0.15);\n",
              "      fill: #174EA6;\n",
              "    }\n",
              "\n",
              "    [theme=dark] .colab-df-convert {\n",
              "      background-color: #3B4455;\n",
              "      fill: #D2E3FC;\n",
              "    }\n",
              "\n",
              "    [theme=dark] .colab-df-convert:hover {\n",
              "      background-color: #434B5C;\n",
              "      box-shadow: 0px 1px 3px 1px rgba(0, 0, 0, 0.15);\n",
              "      filter: drop-shadow(0px 1px 2px rgba(0, 0, 0, 0.3));\n",
              "      fill: #FFFFFF;\n",
              "    }\n",
              "  </style>\n",
              "\n",
              "      <script>\n",
              "        const buttonEl =\n",
              "          document.querySelector('#df-2b8fdd77-6285-4489-940b-a41a18fe10a1 button.colab-df-convert');\n",
              "        buttonEl.style.display =\n",
              "          google.colab.kernel.accessAllowed ? 'block' : 'none';\n",
              "\n",
              "        async function convertToInteractive(key) {\n",
              "          const element = document.querySelector('#df-2b8fdd77-6285-4489-940b-a41a18fe10a1');\n",
              "          const dataTable =\n",
              "            await google.colab.kernel.invokeFunction('convertToInteractive',\n",
              "                                                     [key], {});\n",
              "          if (!dataTable) return;\n",
              "\n",
              "          const docLinkHtml = 'Like what you see? Visit the ' +\n",
              "            '<a target=\"_blank\" href=https://colab.research.google.com/notebooks/data_table.ipynb>data table notebook</a>'\n",
              "            + ' to learn more about interactive tables.';\n",
              "          element.innerHTML = '';\n",
              "          dataTable['output_type'] = 'display_data';\n",
              "          await google.colab.output.renderOutput(dataTable, element);\n",
              "          const docLink = document.createElement('div');\n",
              "          docLink.innerHTML = docLinkHtml;\n",
              "          element.appendChild(docLink);\n",
              "        }\n",
              "      </script>\n",
              "    </div>\n",
              "  </div>\n",
              "  "
            ]
          },
          "metadata": {},
          "execution_count": 68
        }
      ]
    },
    {
      "cell_type": "code",
      "source": [
        "# max_scores = X_test_tfidf.toarray().max(0).argsort()\n",
        "# np.array(features)[max_scores[-20:]]\n"
      ],
      "metadata": {
        "colab": {
          "base_uri": "https://localhost:8080/"
        },
        "id": "CBcgYvEfimcH",
        "outputId": "a71a5075-3553-41ce-9e9c-1bf591ff1f4e"
      },
      "id": "CBcgYvEfimcH",
      "execution_count": null,
      "outputs": [
        {
          "output_type": "execute_result",
          "data": {
            "text/plain": [
              "array(['sampling', 'policyholders', 'lever', 'jewellery', 'oaks', 'tort',\n",
              "       'symbion', 'armitage', 'servier', 'patents', 'aporo', 'croker',\n",
              "       'coles', 'rogers', 'bickfords', 'accountants', 'cfmeu', 'currency',\n",
              "       'defamation', 'kabi'], dtype='<U36')"
            ]
          },
          "metadata": {},
          "execution_count": 45
        }
      ]
    },
    {
      "cell_type": "code",
      "source": [
        "sum_words = X_test_tfidf.sum(axis=0) \n",
        "words_freq = [(word, sum_words[0, idx]) for word, idx in tfidf_vect.vocabulary_.items()]\n",
        "words_freq =sorted(words_freq, key = lambda x: x[1], reverse=True)\n",
        "df = pd.DataFrame(words_freq, columns=['Word', 'Frequency'])\n",
        "df_sub = df.head(10)\n",
        "df_sub"
      ],
      "metadata": {
        "colab": {
          "base_uri": "https://localhost:8080/",
          "height": 363
        },
        "id": "SDklTZVKf75F",
        "outputId": "a4c2400b-e5a8-457e-a80b-495f46858625"
      },
      "id": "SDklTZVKf75F",
      "execution_count": null,
      "outputs": [
        {
          "output_type": "execute_result",
          "data": {
            "text/plain": [
              "          Word   Frequency\n",
              "0        court  143.749299\n",
              "1     tribunal  124.061653\n",
              "2     minister   93.873001\n",
              "3     decision   89.997931\n",
              "4         case   86.512648\n",
              "5    applicant   79.762551\n",
              "6  immigration   76.133929\n",
              "7     evidence   76.007928\n",
              "8      affairs   68.888392\n",
              "9  application   67.561065"
            ],
            "text/html": [
              "\n",
              "  <div id=\"df-7a241deb-fca7-4408-832e-cf04ac8222c9\">\n",
              "    <div class=\"colab-df-container\">\n",
              "      <div>\n",
              "<style scoped>\n",
              "    .dataframe tbody tr th:only-of-type {\n",
              "        vertical-align: middle;\n",
              "    }\n",
              "\n",
              "    .dataframe tbody tr th {\n",
              "        vertical-align: top;\n",
              "    }\n",
              "\n",
              "    .dataframe thead th {\n",
              "        text-align: right;\n",
              "    }\n",
              "</style>\n",
              "<table border=\"1\" class=\"dataframe\">\n",
              "  <thead>\n",
              "    <tr style=\"text-align: right;\">\n",
              "      <th></th>\n",
              "      <th>Word</th>\n",
              "      <th>Frequency</th>\n",
              "    </tr>\n",
              "  </thead>\n",
              "  <tbody>\n",
              "    <tr>\n",
              "      <th>0</th>\n",
              "      <td>court</td>\n",
              "      <td>143.749299</td>\n",
              "    </tr>\n",
              "    <tr>\n",
              "      <th>1</th>\n",
              "      <td>tribunal</td>\n",
              "      <td>124.061653</td>\n",
              "    </tr>\n",
              "    <tr>\n",
              "      <th>2</th>\n",
              "      <td>minister</td>\n",
              "      <td>93.873001</td>\n",
              "    </tr>\n",
              "    <tr>\n",
              "      <th>3</th>\n",
              "      <td>decision</td>\n",
              "      <td>89.997931</td>\n",
              "    </tr>\n",
              "    <tr>\n",
              "      <th>4</th>\n",
              "      <td>case</td>\n",
              "      <td>86.512648</td>\n",
              "    </tr>\n",
              "    <tr>\n",
              "      <th>5</th>\n",
              "      <td>applicant</td>\n",
              "      <td>79.762551</td>\n",
              "    </tr>\n",
              "    <tr>\n",
              "      <th>6</th>\n",
              "      <td>immigration</td>\n",
              "      <td>76.133929</td>\n",
              "    </tr>\n",
              "    <tr>\n",
              "      <th>7</th>\n",
              "      <td>evidence</td>\n",
              "      <td>76.007928</td>\n",
              "    </tr>\n",
              "    <tr>\n",
              "      <th>8</th>\n",
              "      <td>affairs</td>\n",
              "      <td>68.888392</td>\n",
              "    </tr>\n",
              "    <tr>\n",
              "      <th>9</th>\n",
              "      <td>application</td>\n",
              "      <td>67.561065</td>\n",
              "    </tr>\n",
              "  </tbody>\n",
              "</table>\n",
              "</div>\n",
              "      <button class=\"colab-df-convert\" onclick=\"convertToInteractive('df-7a241deb-fca7-4408-832e-cf04ac8222c9')\"\n",
              "              title=\"Convert this dataframe to an interactive table.\"\n",
              "              style=\"display:none;\">\n",
              "        \n",
              "  <svg xmlns=\"http://www.w3.org/2000/svg\" height=\"24px\"viewBox=\"0 0 24 24\"\n",
              "       width=\"24px\">\n",
              "    <path d=\"M0 0h24v24H0V0z\" fill=\"none\"/>\n",
              "    <path d=\"M18.56 5.44l.94 2.06.94-2.06 2.06-.94-2.06-.94-.94-2.06-.94 2.06-2.06.94zm-11 1L8.5 8.5l.94-2.06 2.06-.94-2.06-.94L8.5 2.5l-.94 2.06-2.06.94zm10 10l.94 2.06.94-2.06 2.06-.94-2.06-.94-.94-2.06-.94 2.06-2.06.94z\"/><path d=\"M17.41 7.96l-1.37-1.37c-.4-.4-.92-.59-1.43-.59-.52 0-1.04.2-1.43.59L10.3 9.45l-7.72 7.72c-.78.78-.78 2.05 0 2.83L4 21.41c.39.39.9.59 1.41.59.51 0 1.02-.2 1.41-.59l7.78-7.78 2.81-2.81c.8-.78.8-2.07 0-2.86zM5.41 20L4 18.59l7.72-7.72 1.47 1.35L5.41 20z\"/>\n",
              "  </svg>\n",
              "      </button>\n",
              "      \n",
              "  <style>\n",
              "    .colab-df-container {\n",
              "      display:flex;\n",
              "      flex-wrap:wrap;\n",
              "      gap: 12px;\n",
              "    }\n",
              "\n",
              "    .colab-df-convert {\n",
              "      background-color: #E8F0FE;\n",
              "      border: none;\n",
              "      border-radius: 50%;\n",
              "      cursor: pointer;\n",
              "      display: none;\n",
              "      fill: #1967D2;\n",
              "      height: 32px;\n",
              "      padding: 0 0 0 0;\n",
              "      width: 32px;\n",
              "    }\n",
              "\n",
              "    .colab-df-convert:hover {\n",
              "      background-color: #E2EBFA;\n",
              "      box-shadow: 0px 1px 2px rgba(60, 64, 67, 0.3), 0px 1px 3px 1px rgba(60, 64, 67, 0.15);\n",
              "      fill: #174EA6;\n",
              "    }\n",
              "\n",
              "    [theme=dark] .colab-df-convert {\n",
              "      background-color: #3B4455;\n",
              "      fill: #D2E3FC;\n",
              "    }\n",
              "\n",
              "    [theme=dark] .colab-df-convert:hover {\n",
              "      background-color: #434B5C;\n",
              "      box-shadow: 0px 1px 3px 1px rgba(0, 0, 0, 0.15);\n",
              "      filter: drop-shadow(0px 1px 2px rgba(0, 0, 0, 0.3));\n",
              "      fill: #FFFFFF;\n",
              "    }\n",
              "  </style>\n",
              "\n",
              "      <script>\n",
              "        const buttonEl =\n",
              "          document.querySelector('#df-7a241deb-fca7-4408-832e-cf04ac8222c9 button.colab-df-convert');\n",
              "        buttonEl.style.display =\n",
              "          google.colab.kernel.accessAllowed ? 'block' : 'none';\n",
              "\n",
              "        async function convertToInteractive(key) {\n",
              "          const element = document.querySelector('#df-7a241deb-fca7-4408-832e-cf04ac8222c9');\n",
              "          const dataTable =\n",
              "            await google.colab.kernel.invokeFunction('convertToInteractive',\n",
              "                                                     [key], {});\n",
              "          if (!dataTable) return;\n",
              "\n",
              "          const docLinkHtml = 'Like what you see? Visit the ' +\n",
              "            '<a target=\"_blank\" href=https://colab.research.google.com/notebooks/data_table.ipynb>data table notebook</a>'\n",
              "            + ' to learn more about interactive tables.';\n",
              "          element.innerHTML = '';\n",
              "          dataTable['output_type'] = 'display_data';\n",
              "          await google.colab.output.renderOutput(dataTable, element);\n",
              "          const docLink = document.createElement('div');\n",
              "          docLink.innerHTML = docLinkHtml;\n",
              "          element.appendChild(docLink);\n",
              "        }\n",
              "      </script>\n",
              "    </div>\n",
              "  </div>\n",
              "  "
            ]
          },
          "metadata": {},
          "execution_count": 42
        }
      ]
    },
    {
      "cell_type": "code",
      "source": [
        "top_n"
      ],
      "metadata": {
        "id": "GdywiHYfNrJX"
      },
      "id": "GdywiHYfNrJX",
      "execution_count": null,
      "outputs": []
    },
    {
      "cell_type": "code",
      "source": [
        "from sklearn.ensemble import RandomForestClassifier\n",
        "\n",
        "clf=RandomForestClassifier(n_estimators=100)\n",
        "clf.fit(X_train_tfidf,y_train)\n",
        "y_pred=clf.predict(X_test_tfidf)\n",
        "from sklearn import metrics\n",
        "confusion_matrix = metrics.confusion_matrix(y_test, y_pred)\n",
        "confusion_matrix\n",
        "print(\"Accuracy:\",metrics.accuracy_score(y_test, y_pred))\n",
        "print(\"Precision:\",metrics.precision_score(y_test, y_pred,average='micro'))"
      ],
      "metadata": {
        "id": "viqdpA5iRq8p",
        "colab": {
          "base_uri": "https://localhost:8080/"
        },
        "outputId": "81f1b756-6616-47e1-a609-107d952fbd12"
      },
      "id": "viqdpA5iRq8p",
      "execution_count": null,
      "outputs": [
        {
          "output_type": "stream",
          "name": "stdout",
          "text": [
            "Accuracy: 0.4529723695227463\n",
            "Precision: 0.4529723695227463\n"
          ]
        }
      ]
    },
    {
      "cell_type": "code",
      "source": [
        "# from sklearn.model_selection import RandomizedSearchCV\n",
        "# # number of trees in random forest\n",
        "# n_estimators = [int(x) for x in np.linspace(start = 50, stop = 1000, num = 50)]\n",
        "\n",
        "# random_grid = {\n",
        "#  'n_estimators': n_estimators\n",
        "#  }\n",
        "# # Random search of parameters\n",
        "# rfc_random = RandomizedSearchCV(estimator = RandomForestClassifier(), param_distributions = random_grid, n_iter = 100, cv = 3, verbose=2, random_state=42, n_jobs = -1)\n",
        "# # Fit the model\n",
        "# rfc_random.fit(X_train_tfidf, y_train)\n",
        "# # print results\n",
        "# print(rfc_random.best_params_)"
      ],
      "metadata": {
        "id": "L664BuJJYLTX"
      },
      "id": "L664BuJJYLTX",
      "execution_count": null,
      "outputs": []
    },
    {
      "cell_type": "code",
      "source": [
        "from sklearn.ensemble import RandomForestClassifier\n",
        "\n",
        "clf=RandomForestClassifier(n_estimators=50)\n",
        "clf.fit(X_train_tfidf,y_train)\n",
        "y_pred=clf.predict(X_test_tfidf)\n",
        "from sklearn import metrics\n",
        "confusion_matrix = metrics.confusion_matrix(y_test, y_pred)\n",
        "confusion_matrix\n",
        "print(\"Accuracy:\",metrics.accuracy_score(y_test, y_pred))\n",
        "print(\"Precision:\",metrics.precision_score(y_test, y_pred,average='micro'))"
      ],
      "metadata": {
        "colab": {
          "base_uri": "https://localhost:8080/"
        },
        "id": "tTuxMPP87ciQ",
        "outputId": "79496a90-c85c-4a28-c045-64bd04c0947b"
      },
      "id": "tTuxMPP87ciQ",
      "execution_count": null,
      "outputs": [
        {
          "output_type": "stream",
          "name": "stdout",
          "text": [
            "Accuracy: 0.4412503488696623\n",
            "Precision: 0.4412503488696623\n"
          ]
        }
      ]
    },
    {
      "cell_type": "code",
      "source": [
        "from sklearn.ensemble import RandomForestClassifier\n",
        "\n",
        "clf=RandomForestClassifier(n_estimators=1000)\n",
        "clf.fit(X_train_tfidf,y_train)\n",
        "y_pred=clf.predict(X_test_tfidf)\n",
        "from sklearn import metrics\n",
        "confusion_matrix = metrics.confusion_matrix(y_test, y_pred)\n",
        "confusion_matrix\n",
        "print(\"Accuracy:\",metrics.accuracy_score(y_test, y_pred))\n",
        "print(\"Precision:\",metrics.precision_score(y_test, y_pred,average='micro'))"
      ],
      "metadata": {
        "colab": {
          "base_uri": "https://localhost:8080/"
        },
        "id": "IYUWAZqh7ck3",
        "outputId": "96091082-01a7-4abf-9563-3ae597c0e3b7"
      },
      "id": "IYUWAZqh7ck3",
      "execution_count": null,
      "outputs": [
        {
          "output_type": "stream",
          "name": "stdout",
          "text": [
            "Accuracy: 0.46664806028467765\n",
            "Precision: 0.46664806028467765\n"
          ]
        }
      ]
    },
    {
      "cell_type": "code",
      "source": [],
      "metadata": {
        "id": "Jqc1fjMjvton"
      },
      "id": "Jqc1fjMjvton",
      "execution_count": null,
      "outputs": []
    },
    {
      "cell_type": "code",
      "source": [
        "from sklearn.preprocessing import LabelEncoder\n",
        "from sklearn import svm\n",
        "X=df_sample['cleaned']\n",
        "labelEncoder = LabelEncoder()\n",
        "labelEncoder.fit(df_sample['case_outcome_merged'])\n",
        "df_sample['Ylabel'] = labelEncoder.transform(df_sample['case_outcome_merged'])\n",
        "Y = df_sample['Ylabel']\n",
        "X_train, X_test, y_train, y_test = train_test_split(X,Y, test_size=0.3, random_state=123)\n",
        "tfidf = TfidfVectorizer(encoding='latin-1', use_idf=True, min_df=5, stop_words='english')\n",
        "X_train_tfidf = tfidf.fit_transform(X_train)\n",
        "X_test_tfidf = tfidf.transform(X_test)\n",
        "modelSVM = svm.SVC(kernel='poly')\n",
        "modelSVM.fit(X_train_tfidf, y_train)\n",
        "y_predSVM = modelSVM.predict(X_test_tfidf)\n",
        "print(\"Accuracy:\",metrics.accuracy_score(y_test, y_predSVM))\n",
        "print(\"Precision:\",metrics.precision_score(y_test, y_predSVM,average='micro'))"
      ],
      "metadata": {
        "colab": {
          "base_uri": "https://localhost:8080/"
        },
        "id": "Hd50N5v8f5jD",
        "outputId": "1e259d62-ca47-40c7-8419-4be952497b4a"
      },
      "id": "Hd50N5v8f5jD",
      "execution_count": null,
      "outputs": [
        {
          "output_type": "stream",
          "name": "stderr",
          "text": [
            "<ipython-input-89-04dcc0acfee4>:6: SettingWithCopyWarning: \n",
            "A value is trying to be set on a copy of a slice from a DataFrame.\n",
            "Try using .loc[row_indexer,col_indexer] = value instead\n",
            "\n",
            "See the caveats in the documentation: https://pandas.pydata.org/pandas-docs/stable/user_guide/indexing.html#returning-a-view-versus-a-copy\n",
            "  df_sample['Ylabel'] = labelEncoder.transform(df_sample['case_outcome_merged'])\n"
          ]
        }
      ]
    },
    {
      "cell_type": "code",
      "source": [
        "df_sample['totalwords'] = df_sample['cleaned'].str.split().str.len()\n",
        "df_sample['totalwords'].sum(axis = 0, skipna = True)"
      ],
      "metadata": {
        "colab": {
          "base_uri": "https://localhost:8080/"
        },
        "id": "fU0VSThzaNoa",
        "outputId": "b73adfcb-4704-4053-8cf6-fcfabb1d3f7a"
      },
      "id": "fU0VSThzaNoa",
      "execution_count": null,
      "outputs": [
        {
          "output_type": "execute_result",
          "data": {
            "text/plain": [
              "3132261"
            ]
          },
          "metadata": {},
          "execution_count": 27
        }
      ]
    },
    {
      "cell_type": "code",
      "source": [
        "df_sample['totalwords']"
      ],
      "metadata": {
        "colab": {
          "base_uri": "https://localhost:8080/"
        },
        "id": "qYEfmpdWIuMO",
        "outputId": "c258c797-7743-41d5-b178-e6a5231658b1"
      },
      "id": "qYEfmpdWIuMO",
      "execution_count": null,
      "outputs": [
        {
          "output_type": "execute_result",
          "data": {
            "text/plain": [
              "0          81\n",
              "1         389\n",
              "2        1080\n",
              "3         121\n",
              "4         102\n",
              "         ... \n",
              "12008     225\n",
              "12009     634\n",
              "12010     224\n",
              "12011     475\n",
              "12012     212\n",
              "Name: totalwords, Length: 11938, dtype: int64"
            ]
          },
          "metadata": {},
          "execution_count": 21
        }
      ]
    },
    {
      "cell_type": "code",
      "source": [
        "!pip install transformers\n",
        "from transformers import AutoTokenizer, AutoModel\n",
        "\n",
        "tokenizer = AutoTokenizer.from_pretrained(\"nlpaueb/legal-bert-base-uncased\")\n",
        "model = AutoModel.from_pretrained(\"nlpaueb/legal-bert-base-uncased\")\n",
        "model = svm.SVC(kernel='poly')\n",
        "model.fit(X_train_tfidf, y_train)\n",
        "y_predBert = model.predict(X_test_tfidf)\n",
        "print(\"Accuracy:\",metrics.accuracy_score(y_test, y_predBert))\n",
        "print(\"Precision:\",metrics.precision_score(y_test, y_predBert,average='micro'))"
      ],
      "metadata": {
        "id": "3xV09XbMUgp_"
      },
      "id": "3xV09XbMUgp_",
      "execution_count": null,
      "outputs": []
    }
  ],
  "metadata": {
    "kernelspec": {
      "display_name": "Python 3 (ipykernel)",
      "language": "python",
      "name": "python3"
    },
    "language_info": {
      "codemirror_mode": {
        "name": "ipython",
        "version": 3
      },
      "file_extension": ".py",
      "mimetype": "text/x-python",
      "name": "python",
      "nbconvert_exporter": "python",
      "pygments_lexer": "ipython3",
      "version": "3.9.12"
    },
    "colab": {
      "provenance": []
    },
    "gpuClass": "standard"
  },
  "nbformat": 4,
  "nbformat_minor": 5
}